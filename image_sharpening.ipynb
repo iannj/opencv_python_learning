{
 "cells": [
  {
   "cell_type": "code",
   "execution_count": 1,
   "metadata": {},
   "outputs": [],
   "source": [
    "import cv2\n",
    "import numpy as np\n",
    "\n",
    "img=cv2.imread(\"73.jpg\")\n",
    "\n",
    "# 1\n",
    "blur=cv2.GaussianBlur(img,(0,0),3)\n",
    "image=cv2.addWeighted(img,1.5,blur,-0.5,0)\n",
    "# 2\n",
    "kernel = np.array([[-1,-1,-1], [-1,9,-1], [-1,-1,-1]])\n",
    "image = cv2.filter2D(img, -1, kernel)\n",
    "# 3\n",
    "image=cv2.bilateralFilter(img,9,75,75)\n",
    "# 4\n",
    "sigma = 1; threshold = 5; amount = 1\n",
    "blurred=cv2.GaussianBlur(img,(0,0),1,None,1)\n",
    "lowContrastMask = abs(img - blurred) < threshold\n",
    "sharpened = img*(1+amount) + blurred*(-amount)\n",
    "image=cv2.bitwise_or(sharpened.astype(np.uint8),lowContrastMask.astype(np.uint8))\n",
    "cv2.namedWindow(\"dst\",cv2.WINDOW_FREERATIO)\n",
    "cv2.imshow(\"dst\",image)\n",
    "cv2.waitKey(0)\n",
    "cv2.destroyAllWindows()"
   ]
  },
  {
   "cell_type": "code",
   "execution_count": null,
   "metadata": {},
   "outputs": [],
   "source": []
  }
 ],
 "metadata": {
  "kernelspec": {
   "display_name": "Python 3",
   "language": "python",
   "name": "python3"
  },
  "language_info": {
   "codemirror_mode": {
    "name": "ipython",
    "version": 3
   },
   "file_extension": ".py",
   "mimetype": "text/x-python",
   "name": "python",
   "nbconvert_exporter": "python",
   "pygments_lexer": "ipython3",
   "version": "3.7.3"
  }
 },
 "nbformat": 4,
 "nbformat_minor": 4
}
