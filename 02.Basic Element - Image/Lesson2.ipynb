{
 "cells": [
  {
   "cell_type": "markdown",
   "metadata": {},
   "source": [
    "# 加载图片，显示图片，保存图片\n",
    "\n",
    "- OpenCV中彩色图是以B-G-R通道顺序存储\n",
    "- 图像坐标的起始点是在左上角，行对应y，列对应x\n",
    "- OpenCV函数：cv2.imread(), cv2.imshow(), cv2.imwrite()\n"
   ]
  },
  {
   "cell_type": "code",
   "execution_count": 2,
   "metadata": {},
   "outputs": [],
   "source": [
    "#!/usr/bin/env python3\n",
    "# -*- coding=utf-8 -*-\n",
    "\n",
    "import cv2\n"
   ]
  },
  {
   "cell_type": "markdown",
   "metadata": {},
   "source": [
    "# 1. cv2.imread() 读取image\n",
    "\n",
    "- 参数1：图片的文件名\n",
    "\n",
    "   - 相对路径或绝对路径\n",
    "   - 路径中不能有中文\n",
    "   \n",
    "- 参数2：读入方式，省略即采用默认值\n",
    "\n",
    "   - cv2.IMREAD_COLOR：彩色图，默认值(1)\n",
    "   - cv2.IMREAD_GRAYSCALE：灰度图(0)\n",
    "   - cv2.IMREAD_UNCHANGED：包含透明通道的彩色图(-1)\n"
   ]
  },
  {
   "cell_type": "code",
   "execution_count": 3,
   "metadata": {},
   "outputs": [],
   "source": [
    "# 读取灰度图\n",
    "img = cv2.imread('lena.jpg', 0)"
   ]
  },
  {
   "cell_type": "markdown",
   "metadata": {},
   "source": [
    "# 2. cv2.imshow() 显示image\n",
    "\n",
    "- 参数1：窗口名，不同窗口之间用窗口名区分，窗口名相同表示为同一个窗口\n",
    "- 参数2：待显示的图片\n",
    "\n",
    "# 3. cv2.waitKey() 暂停并等待输入\n",
    "- 参数1：等待时间（毫秒ms），0表示一直等待\n",
    "- 可获取用户的按键输入：k = cv2.waitKey(0)"
   ]
  },
  {
   "cell_type": "code",
   "execution_count": 4,
   "metadata": {},
   "outputs": [
    {
     "data": {
      "text/plain": [
       "-1"
      ]
     },
     "execution_count": 4,
     "metadata": {},
     "output_type": "execute_result"
    }
   ],
   "source": [
    "cv2.imshow('lena', img)\n",
    "cv2.waitKey(0)"
   ]
  },
  {
   "cell_type": "markdown",
   "metadata": {},
   "source": [
    "# 4. cv2.namedWindow() 创建窗口\n",
    "- 参数1：窗口名\n",
    "- 参数2：窗口形式\n",
    "   - cv2.WINDOW_AUTOSIZE(默认)\n",
    "   - cv2.WINDOW_NORMAL"
   ]
  },
  {
   "cell_type": "code",
   "execution_count": 5,
   "metadata": {},
   "outputs": [
    {
     "data": {
      "text/plain": [
       "-1"
      ]
     },
     "execution_count": 5,
     "metadata": {},
     "output_type": "execute_result"
    }
   ],
   "source": [
    "# 先定义窗口，后显示图片\n",
    "cv2.namedWindow('lena2', cv2.WINDOW_NORMAL)\n",
    "cv2.imshow('lena2', img)\n",
    "cv2.waitKey(0)"
   ]
  },
  {
   "cell_type": "markdown",
   "metadata": {},
   "source": [
    "# 5. cv2.imwrite() 保存图片\n",
    "\n",
    "- 参数1：文件名，必须包含后缀\n",
    "- 详见：help(cv2.imwrite)或help(cv2.imread)"
   ]
  },
  {
   "cell_type": "code",
   "execution_count": 7,
   "metadata": {},
   "outputs": [
    {
     "data": {
      "text/plain": [
       "True"
      ]
     },
     "execution_count": 7,
     "metadata": {},
     "output_type": "execute_result"
    }
   ],
   "source": [
    "cv2.imwrite('lena_gray.jpg', img)"
   ]
  },
  {
   "cell_type": "code",
   "execution_count": null,
   "metadata": {},
   "outputs": [],
   "source": []
  }
 ],
 "metadata": {
  "kernelspec": {
   "display_name": "Python 3",
   "language": "python",
   "name": "python3"
  },
  "language_info": {
   "codemirror_mode": {
    "name": "ipython",
    "version": 3
   },
   "file_extension": ".py",
   "mimetype": "text/x-python",
   "name": "python",
   "nbconvert_exporter": "python",
   "pygments_lexer": "ipython3",
   "version": "3.7.3"
  }
 },
 "nbformat": 4,
 "nbformat_minor": 4
}
